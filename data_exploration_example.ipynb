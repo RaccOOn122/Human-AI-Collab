{
 "cells": [
  {
   "cell_type": "markdown",
   "id": "c3e4f249",
   "metadata": {},
   "source": [
    "# 🧪 Mini AI Project: Data Cleaning & Exploration\n",
    "Welcome to your team-based mini-project! In this notebook, you'll work together to explore and clean a small dataset. This is a practical introduction to the data preparation phase in an AI project pipeline.\n",
    "\n",
    "👉 **Goal**: Identify and clean common issues in a real-world dataset.\n",
    "👉 **Skills practiced**: data loading, exploration, cleaning, and documentation.\n"
   ]
  },
  {
   "cell_type": "code",
   "execution_count": null,
   "id": "c5b13f1d",
   "metadata": {},
   "outputs": [],
   "source": [
    "# 📦 Import necessary libraries\n",
    "import pandas as pd\n",
    "import numpy as np\n",
    "import matplotlib.pyplot as plt\n",
    "import seaborn as sns\n"
   ]
  },
  {
   "cell_type": "code",
   "execution_count": null,
   "id": "20dfdb53",
   "metadata": {},
   "outputs": [],
   "source": [
    "# 📂 Load the dataset\n",
    "# You can replace this path with any dataset of your choice\n",
    "url = 'https://raw.githubusercontent.com/datasciencedojo/datasets/master/titanic.csv'\n",
    "df = pd.read_csv(url)\n",
    "df.head()"
   ]
  },
  {
   "cell_type": "code",
   "execution_count": null,
   "id": "4daef833",
   "metadata": {},
   "outputs": [],
   "source": [
    "# 🔍 Quick data overview\n",
    "df.info()\n",
    "df.describe()"
   ]
  },
  {
   "cell_type": "code",
   "execution_count": null,
   "id": "03fddbce",
   "metadata": {},
   "outputs": [],
   "source": [
    "# 🕳️ Check for missing values\n",
    "df.isnull().sum()"
   ]
  },
  {
   "cell_type": "code",
   "execution_count": null,
   "id": "3cb8e755",
   "metadata": {},
   "outputs": [],
   "source": [
    "# 🧼 Example cleaning: Fill missing Age values with median\n",
    "df['Age'].fillna(df['Age'].median(), inplace=True)\n",
    "# Drop rows with missing Embarked\n",
    "df.dropna(subset=['Embarked'], inplace=True)\n",
    "df.isnull().sum()"
   ]
  },
  {
   "cell_type": "code",
   "execution_count": null,
   "id": "b0fe41e9",
   "metadata": {},
   "outputs": [],
   "source": [
    "# 📊 Visualize some data\n",
    "sns.histplot(df['Age'], bins=20)\n",
    "plt.title('Distribution of Age')\n",
    "plt.show()"
   ]
  },
  {
   "cell_type": "markdown",
   "id": "f1cb6260",
   "metadata": {},
   "source": [
    "## 🧠 Team Reflection\n",
    "- What kinds of data issues did you find?\n",
    "- How did you decide what to clean or keep?\n",
    "- What ethical concerns might arise from this data?\n"
   ]
  }
 ],
 "metadata": {},
 "nbformat": 4,
 "nbformat_minor": 5
}
