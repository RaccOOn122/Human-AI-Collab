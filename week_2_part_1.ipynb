{
 "cells": [
  {
   "cell_type": "markdown",
   "id": "6de3762d",
   "metadata": {},
   "source": [
    "# 💻 Advanced AI Mini-Project: Data Mining & Data Cleansing\n",
    "Welcome! This notebook includes two distinct tasks for your team. Each task is designed to challenge your skills in sourcing and preparing data for AI-driven projects.\n",
    "\n",
    "---\n",
    "## 📌 Instructions\n",
    "- You can divide your group into two sub-teams or work sequentially.\n",
    "- Each section is marked with goals and deliverables.\n",
    "- Document your decisions and issues in the markdown cells provided.\n",
    "- Make sure to comment your code.\n"
   ]
  },
  {
   "cell_type": "markdown",
   "id": "e98de59c",
   "metadata": {},
   "source": [
    "## 🛰 Task 1: Data Mining\n",
    "### Goal:\n",
    "Find and extract a **small, real-world dataset** related to human behavior, interaction, or accessibility. The dataset should be sourced from a public platform or scraped from an online service (ethically).\n",
    "\n",
    "### Guidelines:\n",
    "- Choose a source (e.g. Reddit, Wikipedia tables, GitHub, open APIs)\n",
    "- Extract and store the data using Python (e.g. `requests`, `BeautifulSoup`, or an API client)\n",
    "- Save a copy of the data locally (as CSV)\n",
    "\n",
    "### Deliverables:\n",
    "- A working script that gathers the data\n",
    "- A short markdown summary explaining what the data is, how it was retrieved, and ethical considerations\n"
   ]
  },
  {
   "cell_type": "code",
   "execution_count": null,
   "id": "a34cfd48",
   "metadata": {},
   "outputs": [],
   "source": [
    "# ✏️ Code your data mining pipeline here\n",
    "# Example: scraping a table from Wikipedia or using an open API\n",
    "# Make sure to document your process clearly\n"
   ]
  },
  {
   "cell_type": "markdown",
   "id": "e65b751e",
   "metadata": {},
   "source": [
    "### 🧠 Reflection (fill this in):\n",
    "- What challenges did you face during data retrieval?\n",
    "- Did you consider licensing and ethical implications?\n",
    "- What could go wrong when using this data in a real AI system?\n"
   ]
  },
  {
   "cell_type": "markdown",
   "id": "014c0d5e",
   "metadata": {},
   "source": [
    "## 🧼 Task 2: Data Cleansing and Profiling\n",
    "### Goal:\n",
    "Perform an in-depth cleaning and exploration of the dataset your team collected in Task 1.\n",
    "\n",
    "### Required steps:\n",
    "- Handle missing values (smart strategies, not just drop!)\n",
    "- Normalize column formats and types\n",
    "- Identify outliers and inconsistencies\n",
    "- Visualize distributions of at least two variables\n",
    "\n",
    "### Bonus:\n",
    "- Try basic feature engineering (e.g. transforming or combining columns)\n",
    "- Apply bias detection if the dataset contains personal traits (e.g. gender, age)\n"
   ]
  },
  {
   "cell_type": "code",
   "execution_count": null,
   "id": "302450ab",
   "metadata": {},
   "outputs": [],
   "source": [
    "# ✏️ Load your dataset and perform profiling\n",
    "# Clean and prepare the data for ML use\n",
    "# Use visualizations to understand patterns and quality issues\n"
   ]
  },
  {
   "cell_type": "markdown",
   "id": "43082bd5",
   "metadata": {},
   "source": [
    "### 🧠 Reflection (fill this in):\n",
    "- Which issues were most time-consuming?\n",
    "- What trade-offs did you make when cleaning the data?\n",
    "- How could bad preprocessing affect downstream AI decisions?\n"
   ]
  }
 ],
 "metadata": {},
 "nbformat": 4,
 "nbformat_minor": 5
}
