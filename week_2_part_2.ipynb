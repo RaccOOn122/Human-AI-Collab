{
 "cells": [
  {
   "cell_type": "markdown",
   "id": "4530f98d",
   "metadata": {},
   "source": [
    "# 🔁 Continuation: AI Mini-Project – EDA, Modeling & HCI Design\n",
    "This notebook continues your team's AI mini-project. You'll now explore the data more deeply, build a model, and design a human-AI use-case around your findings.\n",
    "\n",
    "---\n",
    "## 🚨 Remember\n",
    "- Work collaboratively and divide tasks when needed\n",
    "- Document your thought process\n",
    "- You don't need a perfect model – just a thoughtful process!"
   ]
  },
  {
   "cell_type": "markdown",
   "id": "4c48500b",
   "metadata": {},
   "source": [
    "## 🧠 Task 3: Exploratory Data Analysis (EDA)\n",
    "**Goal:** Understand the data, visualize it, and extract actionable insights.\n",
    "\n",
    "**Instructions:**\n",
    "- Generate at least 3 different visualizations\n",
    "- Analyze correlations or distributions\n",
    "- Identify patterns, anomalies, or user-relevant segments"
   ]
  },
  {
   "cell_type": "code",
   "execution_count": null,
   "id": "17bd8c5f",
   "metadata": {},
   "outputs": [],
   "source": [
    "# 📊 EDA and Visualization Area\n",
    "# Use matplotlib, seaborn, or pandas built-in methods\n",
    "import seab as sns\n",
    "import matplotlib.pyplot as plt\n",
    "# Example: sns.boxplot(data=df, x='Gender', y='Age')"
   ]
  },
  {
   "cell_type": "markdown",
   "id": "86153ec1",
   "metadata": {},
   "source": [
    "**Team reflection:**\n",
    "- What insights did you find?\n",
    "- How might these patterns be used in a real product or interface?\n"
   ]
  },
  {
   "cell_type": "markdown",
   "id": "512d5fa0",
   "metadata": {},
   "source": [
    "## 🤖 Task 4: Build a Baseline Model\n",
    "**Goal:** Train a simple model using your cleaned dataset.\n",
    "\n",
    "**Instructions:**\n",
    "- Pick a target variable\n",
    "- Split your data into train/test\n",
    "- Train a basic classifier or regressor\n",
    "- Evaluate with accuracy, precision, recall, or confusion matrix"
   ]
  },
  {
   "cell_type": "code",
   "execution_count": null,
   "id": "914a0713",
   "metadata": {},
   "outputs": [],
   "source": [
    "# 🏗️ Modeling Area\n",
    "from sklearn.model_selection import train_test_split\n",
    "from sklearn.linear_model import LogisticRegression\n",
    "from sklearn.metrics import classification_report, confusion_matrix\n",
    "\n",
    "# X = df.drop('target_column', axis=1)\n",
    "# y = df['target_column']\n",
    "# X_train, X_test, y_train, y_test = train_test_split(X, y, test_size=0.2, random_state=42)\n",
    "# model = LogisticRegression()\n",
    "# model.fit(X_train, y_train)\n",
    "# preds = model.predict(X_test)\n",
    "# print(classification_report(y_test, preds))"
   ]
  },
  {
   "cell_type": "markdown",
   "id": "659d3fbf",
   "metadata": {},
   "source": [
    "**Team reflection:**\n",
    "- Why did you choose this model/task?\n",
    "- How would you explain this model to a non-technical user?\n"
   ]
  },
  {
   "cell_type": "markdown",
   "id": "aa912e76",
   "metadata": {},
   "source": [
    "## 🧩 Task 5: Human-AI Interaction Scenario\n",
    "**Goal:** Design a use-case where your model or dataset supports human users.\n",
    "\n",
    "**Describe:**\n",
    "- Who is the user?\n",
    "- What problem is being solved?\n",
    "- How does AI assist?\n",
    "- How does the user interact with the system?\n",
    "\n",
    "**Optional:** include sketches, UI mockups, or example outputs."
   ]
  },
  {
   "cell_type": "markdown",
   "id": "5fa6e15a",
   "metadata": {},
   "source": [
    "### ✏️ Use this space to describe your scenario"
   ]
  },
  {
   "cell_type": "markdown",
   "id": "ac35562b",
   "metadata": {},
   "source": [
    "## 🎁 Bonus Task: Bias & Fairness Audit\n",
    "**Goal:** Assess fairness risks in your dataset or model.\n",
    "\n",
    "**Instructions:**\n",
    "- Check if certain groups are under/overrepresented\n",
    "- Evaluate model performance across subgroups (if possible)\n",
    "- Propose improvements (rebalancing, alternative metrics)"
   ]
  },
  {
   "cell_type": "code",
   "execution_count": null,
   "id": "3624113f",
   "metadata": {},
   "outputs": [],
   "source": [
    "# 📉 Bias exploration area\n",
    "# Try comparing performance or distributions between groups\n"
   ]
  },
  {
   "cell_type": "markdown",
   "id": "de6b1a4f",
   "metadata": {},
   "source": [
    "**Team reflection:**\n",
    "- Is your data fair?\n",
    "- How would you communicate these risks to stakeholders?\n"
   ]
  }
 ],
 "metadata": {},
 "nbformat": 4,
 "nbformat_minor": 5
}
